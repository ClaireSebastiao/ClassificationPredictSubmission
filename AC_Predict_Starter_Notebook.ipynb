{
 "cells": [
  {
   "cell_type": "markdown",
   "metadata": {},
   "source": [
    "# Advanced Classification Predict\n",
    "\n",
    "© Explore Data Science Academy"
   ]
  },
  {
   "cell_type": "markdown",
   "metadata": {},
   "source": [
    "## Honour Code\n",
    "\n",
    "I **YOUR NAME**, confirm - by submitting this document - that the solutions in this notebook are a result of my own work and that I abide by the EDSA honour code (https://drive.google.com/file/d/1QDCjGZJ8-FmJE3bZdIQNwnJyQKPhHZBn/view?usp=sharing).\n",
    "\n",
    "Non-compliance with the honour code constitutes a material breach of contract."
   ]
  },
  {
   "cell_type": "markdown",
   "metadata": {},
   "source": [
    "### Import Libraries and Read In the Data\n",
    "\n",
    "Do not modify or remove any of the code in these cells."
   ]
  },
  {
   "cell_type": "code",
   "execution_count": 1,
   "metadata": {},
   "outputs": [
    {
     "name": "stderr",
     "output_type": "stream",
     "text": [
      "[nltk_data] Downloading package wordnet to\n",
      "[nltk_data]     C:\\Users\\nicsp\\AppData\\Roaming\\nltk_data...\n",
      "[nltk_data]   Package wordnet is already up-to-date!\n",
      "[nltk_data] Downloading package stopwords to\n",
      "[nltk_data]     C:\\Users\\nicsp\\AppData\\Roaming\\nltk_data...\n",
      "[nltk_data]   Package stopwords is already up-to-date!\n"
     ]
    },
    {
     "data": {
      "text/plain": [
       "True"
      ]
     },
     "execution_count": 1,
     "metadata": {},
     "output_type": "execute_result"
    }
   ],
   "source": [
    "from IPython.display import Image\n",
    "from IPython.display import IFrame\n",
    "from IPython import display\n",
    "import pandas as pd\n",
    "import numpy as np\n",
    "\n",
    "import nltk\n",
    "import sklearn\n",
    "import imblearn\n",
    "import csv\n",
    "%matplotlib inline\n",
    "\n",
    "from nltk import TreebankWordTokenizer, SnowballStemmer\n",
    "from nltk.tokenize import TweetTokenizer\n",
    "from nltk.tokenize import  word_tokenize\n",
    "from nltk.stem import WordNetLemmatizer\n",
    "from nltk.corpus import stopwords\n",
    "\n",
    "from imblearn.metrics import classification_report_imbalanced\n",
    "\n",
    "from sklearn.preprocessing import LabelBinarizer\n",
    "from sklearn.linear_model import LogisticRegression\n",
    "from sklearn.model_selection import train_test_split\n",
    "\n",
    "from sklearn.tree import DecisionTreeClassifier\n",
    "from sklearn.ensemble import RandomForestClassifier, AdaBoostClassifier\n",
    "from sklearn.svm import SVC\n",
    "\n",
    "from sklearn.feature_extraction.text import TfidfVectorizer\n",
    "from sklearn.feature_selection import VarianceThreshold\n",
    "\n",
    "from sklearn.metrics import accuracy_score\n",
    "from sklearn.metrics import roc_auc_score\n",
    "from sklearn.metrics import recall_score\n",
    "from sklearn.metrics import precision_score\n",
    "from sklearn.metrics import f1_score\n",
    "from sklearn.metrics import confusion_matrix\n",
    "\n",
    "import string\n",
    "import urllib\n",
    "import math\n",
    "import re\n",
    "\n",
    "nltk.download('wordnet')\n",
    "nltk.download('stopwords')"
   ]
  },
  {
   "cell_type": "code",
   "execution_count": 81,
   "metadata": {},
   "outputs": [],
   "source": [
    "train  = pd.read_csv('train.csv')\n",
    "test = pd.read_csv('test.csv') # no labels"
   ]
  },
  {
   "cell_type": "markdown",
   "metadata": {},
   "source": [
    "## Overview\n",
    "\n",
    "Refer to this diagram to guide you while you build your model. Some of the steps will be fleshed out in this template."
   ]
  },
  {
   "cell_type": "markdown",
   "metadata": {},
   "source": [
    "![Overview](process_overview_final.jpg)"
   ]
  },
  {
   "cell_type": "markdown",
   "metadata": {},
   "source": [
    "## Basic preprocessing\n",
    "\n",
    "Here is a template you may use for your initial base model. \n",
    "\n",
    "### Removing URL's\n",
    "Write a function that removes URL's from a single tweet. \n",
    "\n",
    "**Function input:**\n",
    "- A single string object (tweet) \n",
    "\n",
    "**Function output:**\n",
    "- The tweet with URL's removed as a single object"
   ]
  },
  {
   "cell_type": "code",
   "execution_count": 22,
   "metadata": {},
   "outputs": [],
   "source": [
    "# define function that removes URL from single tweet\n",
    "def remove_urls_mentions_RT(text):\n",
    "    \n",
    "    text1 = re.sub(r'http[s]?://(?:[A-Za-z]|[0-9]|[$-_@.&+]|[!*\\(\\),]|(?:%[0-9A-Fa-f][0-9A-Fa-f]))+', \"link\", text)\n",
    "    text2 = re.sub(r'@(?:[A-Za-z]|[0-9]|[$-_@.&+]|[!*\\(\\),]|(?:%[0-9A-Fa-f][0-9A-Fa-f]))+', \"\", text1)\n",
    "    text3 = re.sub(r'^RT[\\s]+', '', text2)\n",
    "    \n",
    "    return text3"
   ]
  },
  {
   "cell_type": "markdown",
   "metadata": {},
   "source": [
    "**Original object:**"
   ]
  },
  {
   "cell_type": "code",
   "execution_count": 49,
   "metadata": {},
   "outputs": [
    {
     "data": {
      "text/plain": [
       "'RT @RawStory: Researchers say we have three years to act on climate change before it’s too late https://t.co/WdT0KdUr2f https://t.co/Z0ANPT…'"
      ]
     },
     "execution_count": 49,
     "metadata": {},
     "output_type": "execute_result"
    }
   ],
   "source": [
    "tweet = train['message'][2]\n",
    "tweet"
   ]
  },
  {
   "cell_type": "code",
   "execution_count": 44,
   "metadata": {},
   "outputs": [
    {
     "data": {
      "text/plain": [
       "'Researchers say we have three years to act on climate change before it’s too late  …'"
      ]
     },
     "execution_count": 44,
     "metadata": {},
     "output_type": "execute_result"
    }
   ],
   "source": [
    "remove_urls_mentions_RT(tweet)"
   ]
  },
  {
   "cell_type": "markdown",
   "metadata": {},
   "source": [
    "**Expected output:**\n",
    "```python\n",
    "remove_urls(tweet)\n",
    "\n",
    ">>'RT @RawStory: Researchers say we have three years to act on climate change before it’s too late  '\n",
    "```"
   ]
  },
  {
   "cell_type": "markdown",
   "metadata": {},
   "source": [
    "### Convert to lowercase\n",
    "\n",
    "Write a function that converts a single tweet to lowercase.\n",
    "\n",
    "**Function input:**\n",
    "- A single string object (tweet) \n",
    "\n",
    "**Function output:**\n",
    "- The tweet in lowercase as a single object"
   ]
  },
  {
   "cell_type": "code",
   "execution_count": 4,
   "metadata": {},
   "outputs": [],
   "source": [
    "def to_lower(text):\n",
    "    text = text.lower()\n",
    "    return text"
   ]
  },
  {
   "cell_type": "markdown",
   "metadata": {},
   "source": [
    "**Original object:**"
   ]
  },
  {
   "cell_type": "code",
   "execution_count": 8,
   "metadata": {},
   "outputs": [
    {
     "data": {
      "text/plain": [
       "'RT @RawStory: Researchers say we have three years to act on climate change before it’s too late https://t.co/WdT0KdUr2f https://t.co/Z0ANPT…'"
      ]
     },
     "execution_count": 8,
     "metadata": {},
     "output_type": "execute_result"
    }
   ],
   "source": [
    "tweet"
   ]
  },
  {
   "cell_type": "code",
   "execution_count": 9,
   "metadata": {},
   "outputs": [
    {
     "data": {
      "text/plain": [
       "'rt @rawstory: researchers say we have three years to act on climate change before it’s too late https://t.co/wdt0kdur2f https://t.co/z0anpt…'"
      ]
     },
     "execution_count": 9,
     "metadata": {},
     "output_type": "execute_result"
    }
   ],
   "source": [
    "to_lower(tweet)"
   ]
  },
  {
   "cell_type": "markdown",
   "metadata": {},
   "source": [
    "**Expected output:**\n",
    "\n",
    "```python \n",
    "to_lower(tweet)\n",
    ">> 'rt @rawstory: researchers say we have three years to act on climate change before it’s too late https://t.co/wdt0kdur2f https://t.co/z0anpt…'\n",
    "```\n",
    "\n",
    "### Stemming or lemmatising\n",
    "\n",
    "Write a function that derives the root words for each of the words in a tweet. You may use stemming _or_ lemmatising here.\n",
    "\n",
    "**Function input:**\n",
    "- A single string object (tweet) \n",
    "\n",
    "**Function output:**\n",
    "- The tweet in root words as a _single_ object"
   ]
  },
  {
   "cell_type": "code",
   "execution_count": 5,
   "metadata": {},
   "outputs": [],
   "source": [
    "def get_roots(text):\n",
    "    \n",
    "    lemmatizer = WordNetLemmatizer()\n",
    "    text = lemmatizer.lemmatize(text)\n",
    "    \n",
    "    return text"
   ]
  },
  {
   "cell_type": "code",
   "execution_count": 53,
   "metadata": {},
   "outputs": [],
   "source": [
    "def get_roots(text):\n",
    "    \n",
    "    stemmer = SnowballStemmer(language = 'english')\n",
    "    text = stemmer.stem(text)\n",
    "    \n",
    "    return text"
   ]
  },
  {
   "cell_type": "markdown",
   "metadata": {},
   "source": [
    "**Original object:**"
   ]
  },
  {
   "cell_type": "code",
   "execution_count": 51,
   "metadata": {},
   "outputs": [
    {
     "data": {
      "text/plain": [
       "'RT @RawStory: Researchers say we have three years to act on climate change before it’s too late https://t.co/WdT0KdUr2f https://t.co/Z0ANPT…'"
      ]
     },
     "execution_count": 51,
     "metadata": {},
     "output_type": "execute_result"
    }
   ],
   "source": [
    "tweet"
   ]
  },
  {
   "cell_type": "code",
   "execution_count": 54,
   "metadata": {},
   "outputs": [
    {
     "data": {
      "text/plain": [
       "\"rt @rawstory: researchers say we have three years to act on climate change before it's too late https://t.co/wdt0kdur2f https://t.co/z0anpt…\""
      ]
     },
     "execution_count": 54,
     "metadata": {},
     "output_type": "execute_result"
    }
   ],
   "source": [
    "get_roots(tweet)"
   ]
  },
  {
   "cell_type": "markdown",
   "metadata": {},
   "source": [
    "**Expected output:**\n",
    "```python\n",
    "get_roots(tweet)\n",
    "```\n",
    "Using `SnowballStemmer()`\n",
    "```python\n",
    ">> 'rt @rawstory: research say we have three year to act on climat chang befor it too late https://t.co/wdt0kdur2f https://t.co/z0anpt…'\n",
    "```\n",
    "\n",
    "Using `WordNetLemmatizer()`\n",
    "```python\n",
    ">> 'RT @RawStory: Researchers say we have three years to act on climate change before it’s too late https://t.co/WdT0KdUr2f https://t.co/Z0ANPT…'\n",
    "```"
   ]
  },
  {
   "cell_type": "markdown",
   "metadata": {},
   "source": [
    "### Other preprocessing techniques \n",
    "\n",
    "Come back here once you have submitted your base model to add any other preprocessing functions yuo wish to add"
   ]
  },
  {
   "cell_type": "code",
   "execution_count": 6,
   "metadata": {},
   "outputs": [],
   "source": [
    "#remove punctuation and numbers\n",
    "\n",
    "import string\n",
    "\n",
    "def remove_punctuation_numbers(text):\n",
    "    punc_numbers = string.punctuation + '0123456789'\n",
    "    \n",
    "    return ''.join([l for l in text if l not in punc_numbers])"
   ]
  },
  {
   "cell_type": "code",
   "execution_count": 13,
   "metadata": {},
   "outputs": [
    {
     "data": {
      "text/plain": [
       "'RT RawStory Researchers say we have three years to act on climate change before it’s too late httpstcoWdTKdUrf httpstcoZANPT…'"
      ]
     },
     "execution_count": 13,
     "metadata": {},
     "output_type": "execute_result"
    }
   ],
   "source": [
    "remove_punctuation_numbers(tweet)"
   ]
  },
  {
   "cell_type": "markdown",
   "metadata": {},
   "source": [
    "### Tokenising \n",
    "\n",
    "Write a function that tokenises a single tweet into a list of tokens.\n",
    "\n",
    "**Function input:**\n",
    "- A single string object (tweet) \n",
    "\n",
    "**Function output:**\n",
    "- A list of tokens (objects)."
   ]
  },
  {
   "cell_type": "code",
   "execution_count": 7,
   "metadata": {},
   "outputs": [],
   "source": [
    "def get_tokens(text):\n",
    "    tokeniser = TreebankWordTokenizer()\n",
    "    text = tokeniser.tokenize(text) \n",
    "    return text"
   ]
  },
  {
   "cell_type": "code",
   "execution_count": 78,
   "metadata": {},
   "outputs": [],
   "source": [
    "def get_tokens(text):\n",
    "    tokeniser = TweetTokenizer()\n",
    "    text = tokeniser.tokenize(text) \n",
    "    return text"
   ]
  },
  {
   "cell_type": "markdown",
   "metadata": {},
   "source": [
    "**Original object:**"
   ]
  },
  {
   "cell_type": "code",
   "execution_count": 79,
   "metadata": {},
   "outputs": [
    {
     "data": {
      "text/plain": [
       "'RT @RawStory: Researchers say we have three years to act on climate change before it’s too late https://t.co/WdT0KdUr2f https://t.co/Z0ANPT…'"
      ]
     },
     "execution_count": 79,
     "metadata": {},
     "output_type": "execute_result"
    }
   ],
   "source": [
    "tweet"
   ]
  },
  {
   "cell_type": "code",
   "execution_count": 80,
   "metadata": {},
   "outputs": [
    {
     "data": {
      "text/plain": [
       "['RT',\n",
       " '@RawStory',\n",
       " ':',\n",
       " 'Researchers',\n",
       " 'say',\n",
       " 'we',\n",
       " 'have',\n",
       " 'three',\n",
       " 'years',\n",
       " 'to',\n",
       " 'act',\n",
       " 'on',\n",
       " 'climate',\n",
       " 'change',\n",
       " 'before',\n",
       " 'it',\n",
       " '’',\n",
       " 's',\n",
       " 'too',\n",
       " 'late',\n",
       " 'https://t.co/WdT0KdUr2f',\n",
       " 'https://t.co/Z0ANPT…']"
      ]
     },
     "execution_count": 80,
     "metadata": {},
     "output_type": "execute_result"
    }
   ],
   "source": [
    "get_tokens(tweet)"
   ]
  },
  {
   "cell_type": "markdown",
   "metadata": {},
   "source": [
    "**Expected output:**\n",
    "```python\n",
    "get_tokens(tweet)\n",
    "\n",
    ">> ['RT',\n",
    " '@',\n",
    " 'RawStory',\n",
    " ':',\n",
    " 'Researchers',\n",
    " 'say',\n",
    " 'we',\n",
    " 'have',\n",
    " 'three',\n",
    " 'years',\n",
    " 'to',\n",
    " 'act',\n",
    " 'on',\n",
    " 'climate',\n",
    " 'change',\n",
    " 'before',\n",
    " 'it’s',\n",
    " 'too',\n",
    " 'late',\n",
    " 'https',\n",
    " ':',\n",
    " '//t.co/WdT0KdUr2f',\n",
    " 'https',\n",
    " ':',\n",
    " '//t.co/Z0ANPT…']\n",
    "```"
   ]
  },
  {
   "cell_type": "markdown",
   "metadata": {},
   "source": [
    "Besides the preprocessing methods we've already discussed, can you think of how our data can be improved at this stage?"
   ]
  },
  {
   "cell_type": "markdown",
   "metadata": {},
   "source": [
    "### Vectorising \n",
    "\n",
    "Use the code from the webinar to define your vecotiser. For more details on this function have a look at the `sklearn`\n",
    "<a href=\"https://scikit-learn.org/stable/modules/generated/sklearn.feature_extraction.text.TfidfVectorizer.html\">package documentation on the function</a>. Recall that this function, unlike the others before takes an _**entire column**_ as an argument.\n",
    "\n",
    "### Putting all the functions together \n",
    "\n",
    "Test your cleaning functions on a single tweet. Perform the cleaning procedure on this tweet from start to finish. Make sure the output looks as you would expect. Store the cleaned tweet in `tweet_final`. Don't worry about vectorising for now.\n",
    "\n",
    "**_Include any other cleaning procedures you add after your base model_**\n",
    "\n",
    "**Original object:**"
   ]
  },
  {
   "cell_type": "code",
   "execution_count": 38,
   "metadata": {},
   "outputs": [
    {
     "data": {
      "text/plain": [
       "'RT @RawStory: Researchers say we have three years to act on climate change before it’s too late https://t.co/WdT0KdUr2f https://t.co/Z0ANPT…'"
      ]
     },
     "execution_count": 38,
     "metadata": {},
     "output_type": "execute_result"
    }
   ],
   "source": [
    "tweet"
   ]
  },
  {
   "cell_type": "code",
   "execution_count": 49,
   "metadata": {},
   "outputs": [
    {
     "name": "stdout",
     "output_type": "stream",
     "text": [
      "['researchers', 'say', 'we', 'have', 'three', 'years', 'to', 'act', 'on', 'climate', 'change', 'before', 'it’s', 'too', 'late', '…']\n"
     ]
    }
   ],
   "source": [
    "# clean tweet from start to finish\n",
    "tweet1 = remove_urls_mentions_RT(tweet)\n",
    "tweet2 = to_lower(tweet1)\n",
    "tweet3 = remove_punctuation_numbers(tweet2)\n",
    "tweet4 = get_roots(tweet3)\n",
    "tweet_final = get_tokens(tweet4)\n",
    "\n",
    "print(tweet_final)"
   ]
  },
  {
   "cell_type": "markdown",
   "metadata": {},
   "source": [
    "**Expected output:**\n",
    "```python\n",
    "tweet_final\n",
    ">>['rt',\n",
    " '@',\n",
    " 'rawstory',\n",
    " ':',\n",
    " 'research',\n",
    " 'say',\n",
    " 'we',\n",
    " 'have',\n",
    " 'three',\n",
    " 'year',\n",
    " 'to',\n",
    " 'act',\n",
    " 'on',\n",
    " 'climat',\n",
    " 'chang',\n",
    " 'befor',\n",
    " 'it',\n",
    " 'too',\n",
    " 'late']\n",
    "```"
   ]
  },
  {
   "cell_type": "markdown",
   "metadata": {},
   "source": [
    "### Preprocessing and cleaning entire column of tweets\n",
    "\n",
    "Now that we know how to clean a single tweet, we can use `apply()` to clean the entire column in the dataframe. This is what the column looks like to begin with."
   ]
  },
  {
   "cell_type": "code",
   "execution_count": 17,
   "metadata": {},
   "outputs": [
    {
     "data": {
      "text/plain": [
       "0    PolySciMajor EPA chief doesn't think carbon di...\n",
       "1    It's not like we lack evidence of anthropogeni...\n",
       "2    RT @RawStory: Researchers say we have three ye...\n",
       "3    #TodayinMaker# WIRED : 2016 was a pivotal year...\n",
       "4    RT @SoyNovioDeTodas: It's 2016, and a racist, ...\n",
       "Name: message, dtype: object"
      ]
     },
     "execution_count": 17,
     "metadata": {},
     "output_type": "execute_result"
    }
   ],
   "source": [
    "train['message'].head()"
   ]
  },
  {
   "cell_type": "markdown",
   "metadata": {},
   "source": [
    "Write code that applies your cleaning functions to the entire `message` column of the dataframe using `.apply()`. Do not vectorise just yet. Store this in a new column, `train['message_clean']`. "
   ]
  },
  {
   "cell_type": "code",
   "execution_count": 82,
   "metadata": {},
   "outputs": [],
   "source": [
    "# applying cleaning functions to entire column of dataframe (Train - NO VECTORISING)\n",
    "\n",
    "train['message_clean'] = train['message'].apply(remove_urls_mentions_RT)\n",
    "\n",
    "train['message_clean'] = train['message_clean'].apply(to_lower)\n",
    "\n",
    "train['message_clean'] = train['message_clean'].apply(remove_punctuation_numbers)\n",
    "\n",
    "train['message_clean'] = train['message_clean'].apply(get_roots)\n",
    "\n",
    "train['message_clean'] = train['message_clean'].apply(get_tokens)"
   ]
  },
  {
   "cell_type": "code",
   "execution_count": 83,
   "metadata": {},
   "outputs": [],
   "source": [
    "# applying cleaning functions to entire column of dataframe (Test - NO VECTORISING)\n",
    "\n",
    "test['message_clean'] = test['message'].apply(remove_urls_mentions_RT)\n",
    "\n",
    "test['message_clean'] = test['message_clean'].apply(to_lower)\n",
    "\n",
    "test['message_clean'] = test['message_clean'].apply(remove_punctuation_numbers)\n",
    "\n",
    "test['message_clean'] = test['message_clean'].apply(get_roots)\n",
    "\n",
    "test['message_clean'] = test['message_clean'].apply(get_tokens)"
   ]
  },
  {
   "cell_type": "code",
   "execution_count": 11,
   "metadata": {},
   "outputs": [
    {
     "data": {
      "text/plain": [
       " 1    8530\n",
       " 2    3640\n",
       " 0    2353\n",
       "-1    1296\n",
       "Name: sentiment, dtype: int64"
      ]
     },
     "execution_count": 11,
     "metadata": {},
     "output_type": "execute_result"
    }
   ],
   "source": [
    "train['sentiment'].value_counts()"
   ]
  },
  {
   "cell_type": "code",
   "execution_count": 84,
   "metadata": {},
   "outputs": [],
   "source": [
    "# Separate minority and majority classes\n",
    "One = train[train['sentiment']==1]\n",
    "Two = train[train['sentiment']==2]\n",
    "Zero = train[train['sentiment']==0]\n",
    "Minus_one = train[train['sentiment']==-1]"
   ]
  },
  {
   "cell_type": "code",
   "execution_count": 85,
   "metadata": {},
   "outputs": [],
   "source": [
    "#downsampling\n",
    "from sklearn.utils import resample\n",
    "\n",
    "One_downsampled = resample(One,\n",
    "                          replace=False, # sample without replacement (no need to duplicate observations)\n",
    "                          n_samples=4000, # match number in minority class\n",
    "                          random_state=27) # reproducible results\n",
    "\n",
    "Two_upsampled = resample(Two,\n",
    "                          replace=True, # sample without replacement (no need to duplicate observations)\n",
    "                          n_samples=4000, # match number in minority class\n",
    "                          random_state=27) # reproducible results\n",
    "\n",
    "Zero_upsampled = resample(Zero,\n",
    "                          replace=True, # sample without replacement (no need to duplicate observations)\n",
    "                          n_samples=4000, # match number in minority class\n",
    "                          random_state=27) # reproducible results\n",
    "\n",
    "Minus_one_upsampled = resample(Minus_one,\n",
    "                          replace=True, # sample without replacement (no need to duplicate observations)\n",
    "                          n_samples=4000, # match number in minority class\n",
    "                          random_state=27) # reproducible results\n",
    "\n",
    "# Combine downsampled classes with upsampled class\n",
    "train_downsampled = pd.concat([One_downsampled, Two_upsampled, Zero_upsampled, Minus_one_upsampled])"
   ]
  },
  {
   "cell_type": "code",
   "execution_count": 62,
   "metadata": {},
   "outputs": [
    {
     "data": {
      "text/plain": [
       " 1    4000\n",
       " 2    4000\n",
       " 0    4000\n",
       "-1    4000\n",
       "Name: sentiment, dtype: int64"
      ]
     },
     "execution_count": 62,
     "metadata": {},
     "output_type": "execute_result"
    }
   ],
   "source": [
    "train_downsampled['sentiment'].value_counts()"
   ]
  },
  {
   "cell_type": "markdown",
   "metadata": {},
   "source": [
    "**Expected output:**\n",
    "\n",
    "```python\n",
    "train['message_clean'].head()\n",
    "\n",
    ">>  0    [polyscimajor, epa, chief, does, n't, think, c...\n",
    "    1    [it, not, like, we, lack, evid, of, anthropoge...\n",
    "    2    [rt, @, rawstory, :, research, say, we, have, ...\n",
    "    3    [#, todayinmaker, #, wire, :, 2016, was, a, pi...\n",
    "    4    [rt, @, soynoviodetodas, :, it, 2016, ,, and, ...\n",
    "Name: message_clean, dtype: object\n",
    "```"
   ]
  },
  {
   "cell_type": "markdown",
   "metadata": {},
   "source": [
    "### Vectorising \n",
    "\n",
    "Vectorise your cleaned data using the vectoriser you defined earlier. Don't forget to fit the vectoriser to the data you just cleaned. Store your vectorised data in `train_vec`."
   ]
  },
  {
   "cell_type": "code",
   "execution_count": 86,
   "metadata": {},
   "outputs": [],
   "source": [
    " tt = TfidfVectorizer(preprocessor=list, tokenizer=list, ngram_range=(1,2), min_df=2, strip_accents = 'ascii', stop_words = 'english', smooth_idf=False)"
   ]
  },
  {
   "cell_type": "code",
   "execution_count": 87,
   "metadata": {},
   "outputs": [
    {
     "name": "stderr",
     "output_type": "stream",
     "text": [
      "C:\\Users\\nicsp\\anaconda3\\lib\\site-packages\\sklearn\\feature_extraction\\text.py:516: UserWarning: The parameter 'token_pattern' will not be used since 'tokenizer' is not None'\n",
      "  warnings.warn(\n",
      "C:\\Users\\nicsp\\anaconda3\\lib\\site-packages\\sklearn\\feature_extraction\\text.py:396: UserWarning: Your stop_words may be inconsistent with your preprocessing. Tokenizing the stop words generated tokens ['b', 'c', 'd', 'e', 'f', 'g', 'h', 'k', 'l', 'm', 'n', 'o', 'p', 'r', 's', 't', 'u', 'v', 'w', 'x', 'y'] not in stop_words.\n",
      "  warnings.warn(\n"
     ]
    }
   ],
   "source": [
    "# vectorise your cleaned data\n",
    "\n",
    "tt.fit(train_downsampled['message_clean'])\n",
    "\n",
    "train_vec = tt.transform(train_downsampled['message_clean'])\n",
    "\n",
    "# YOUR CODE HERE"
   ]
  },
  {
   "cell_type": "code",
   "execution_count": 88,
   "metadata": {},
   "outputs": [],
   "source": [
    "test_vec = tt.transform(test['message_clean'])"
   ]
  },
  {
   "cell_type": "markdown",
   "metadata": {},
   "source": [
    "## Fitting a simple model on training data and evaluate its performance\n",
    "\n",
    "Fit a model on your cleaned data. Use `train_vec` as your features. Note that you need to convert `train_vec` to an array. \n",
    "\n",
    "You are familiar with this process, so there is less guidance here. You may also refer to train notebooks and the webinar pdf as guidance.\n",
    "\n",
    "Your basic model should be a logistic regression, however if you try different models you will also perform the following procedure.\n",
    "\n",
    "1. Split the training data into features and labels.\n",
    "2. Split the training data further into training and validation data.\n",
    "3. Fit the model on the training subset. \n",
    "4. Predict on the validation subset.\n",
    "5. Calculate the performance metrics on the validation predictions.\n",
    "6. Select a model based on validation performance (when you have more than one model).\n",
    "8. Clean the test data.\n",
    "9. Predict on the cleaned test data.\n",
    "7. Write a csv that matches `sample_submission.csv`.\n",
    "8. Submit to Kaggle."
   ]
  },
  {
   "cell_type": "code",
   "execution_count": 89,
   "metadata": {},
   "outputs": [],
   "source": [
    "# YOUR CODE HERE \n",
    "\n",
    "# labels\n",
    "y = train_downsampled['sentiment']\n",
    "\n",
    "# features\n",
    "X = train_vec.toarray()\n",
    "\n",
    "#split into training and validation data\n",
    "\n",
    "X_train, X_test, y_train, y_test = train_test_split(X, y, test_size=0.2, random_state=50)\n"
   ]
  },
  {
   "cell_type": "code",
   "execution_count": 90,
   "metadata": {},
   "outputs": [
    {
     "data": {
      "text/plain": [
       "LogisticRegression(random_state=50, solver='liblinear')"
      ]
     },
     "execution_count": 90,
     "metadata": {},
     "output_type": "execute_result"
    }
   ],
   "source": [
    "#model logistic regression\n",
    "\n",
    "lr = LogisticRegression(solver = 'liblinear', random_state = 50)\n",
    "lr.fit(X_train, y_train)"
   ]
  },
  {
   "cell_type": "code",
   "execution_count": 91,
   "metadata": {},
   "outputs": [
    {
     "name": "stdout",
     "output_type": "stream",
     "text": [
      "0.9172130527187994 0.8417231212431525\n"
     ]
    }
   ],
   "source": [
    "#predictions\n",
    "\n",
    "pred_lr = lr.predict(X_test)\n",
    "\n",
    "f1_score_train = f1_score(y_train, lr.predict(X_train), average='macro')\n",
    "f1_score_test = f1_score(y_test, pred_lr, average='macro')\n",
    "\n",
    "print(f1_score_train, f1_score_test)"
   ]
  },
  {
   "cell_type": "code",
   "execution_count": 33,
   "metadata": {},
   "outputs": [
    {
     "name": "stdout",
     "output_type": "stream",
     "text": [
      "0.9555612756209775 0.8596656219458216\n"
     ]
    }
   ],
   "source": [
    "#model logistic regression more hyperparameters\n",
    "\n",
    "lr2 = LogisticRegression(solver = 'liblinear', C=2, random_state = 50)\n",
    "lr2.fit(X_train, y_train)\n",
    "\n",
    "pred_lr2 = lr2.predict(X_test)\n",
    "\n",
    "f1_score_train = f1_score(y_train, lr2.predict(X_train), average='macro')\n",
    "f1_score_test = f1_score(y_test, pred_lr2, average='macro')\n",
    "\n",
    "print(f1_score_train, f1_score_test)"
   ]
  },
  {
   "cell_type": "code",
   "execution_count": 60,
   "metadata": {},
   "outputs": [
    {
     "name": "stdout",
     "output_type": "stream",
     "text": [
      "0.43635834668231577 0.4410800483705124\n"
     ]
    }
   ],
   "source": [
    "#model tree\n",
    "\n",
    "tree = DecisionTreeClassifier(max_depth=5)\n",
    "tree.fit(X_train, y_train)\n",
    "\n",
    "pred_tree = tree.predict(X_test)\n",
    "\n",
    "f1_score_train = f1_score(y_train, tree.predict(X_train), average='macro')\n",
    "f1_score_test = f1_score(y_test, pred_tree, average='macro')\n",
    "\n",
    "print(f1_score_train, f1_score_test)"
   ]
  },
  {
   "cell_type": "code",
   "execution_count": 74,
   "metadata": {},
   "outputs": [
    {
     "name": "stdout",
     "output_type": "stream",
     "text": [
      "0.6205368767482227 0.5849307468000412\n"
     ]
    }
   ],
   "source": [
    "#model random forest\n",
    "\n",
    "forest = RandomForestClassifier(max_depth=8, random_state=42, n_estimators=100,  max_features=100)\n",
    "forest.fit(X_train, y_train)\n",
    "\n",
    "pred_forest = forest.predict(X_test)\n",
    "\n",
    "f1_score_train = f1_score(y_train, forest.predict(X_train), average='macro')\n",
    "f1_score_test = f1_score(y_test, pred_forest, average='macro')\n",
    "\n",
    "print(f1_score_train, f1_score_test)"
   ]
  },
  {
   "cell_type": "code",
   "execution_count": 75,
   "metadata": {},
   "outputs": [
    {
     "name": "stdout",
     "output_type": "stream",
     "text": [
      "0.3329826864446353 0.3164548262783372\n"
     ]
    }
   ],
   "source": [
    "#modal SVM linear\n",
    "\n",
    "Linear_SVM = SVC(kernel=\"linear\", C=0.025)\n",
    "Linear_SVM.fit(X_train, y_train)\n",
    "\n",
    "pred_Linear_SVM = Linear_SVM.predict(X_test)\n",
    "\n",
    "f1_score_train = f1_score(y_train, Linear_SVM.predict(X_train), average='macro')\n",
    "f1_score_test = f1_score(y_test, pred_Linear_SVM, average='macro')\n",
    "\n",
    "print(f1_score_train, f1_score_test)"
   ]
  },
  {
   "cell_type": "code",
   "execution_count": 20,
   "metadata": {},
   "outputs": [
    {
     "name": "stdout",
     "output_type": "stream",
     "text": [
      "0.9950803805727684 0.8769472788802533\n"
     ]
    }
   ],
   "source": [
    "RBF_SVM = SVC(gamma=2, C=1)\n",
    "RBF_SVM.fit(X_train, y_train)\n",
    "\n",
    "pred_RBF_SVM = RBF_SVM.predict(X_test)\n",
    "\n",
    "f1_score_train = f1_score(y_train, RBF_SVM.predict(X_train), average='macro')\n",
    "f1_score_test = f1_score(y_test, pred_RBF_SVM, average='macro')\n",
    "\n",
    "print(f1_score_train, f1_score_test)"
   ]
  },
  {
   "cell_type": "markdown",
   "metadata": {},
   "source": [
    "## Prepare submission"
   ]
  },
  {
   "cell_type": "code",
   "execution_count": 44,
   "metadata": {},
   "outputs": [],
   "source": [
    "test_vec_array = test_vec.toarray()"
   ]
  },
  {
   "cell_type": "code",
   "execution_count": 92,
   "metadata": {},
   "outputs": [],
   "source": [
    "#predict on the cleaned test data\n",
    "\n",
    "pred_test = lr.predict(test_vec)\n",
    "predictions = pd.DataFrame(pred_test)"
   ]
  },
  {
   "cell_type": "code",
   "execution_count": 93,
   "metadata": {},
   "outputs": [
    {
     "data": {
      "text/html": [
       "<div>\n",
       "<style scoped>\n",
       "    .dataframe tbody tr th:only-of-type {\n",
       "        vertical-align: middle;\n",
       "    }\n",
       "\n",
       "    .dataframe tbody tr th {\n",
       "        vertical-align: top;\n",
       "    }\n",
       "\n",
       "    .dataframe thead th {\n",
       "        text-align: right;\n",
       "    }\n",
       "</style>\n",
       "<table border=\"1\" class=\"dataframe\">\n",
       "  <thead>\n",
       "    <tr style=\"text-align: right;\">\n",
       "      <th></th>\n",
       "      <th>tweetid</th>\n",
       "      <th>sentiment</th>\n",
       "    </tr>\n",
       "  </thead>\n",
       "  <tbody>\n",
       "    <tr>\n",
       "      <th>0</th>\n",
       "      <td>169760</td>\n",
       "      <td>1</td>\n",
       "    </tr>\n",
       "    <tr>\n",
       "      <th>1</th>\n",
       "      <td>35326</td>\n",
       "      <td>1</td>\n",
       "    </tr>\n",
       "    <tr>\n",
       "      <th>2</th>\n",
       "      <td>224985</td>\n",
       "      <td>1</td>\n",
       "    </tr>\n",
       "    <tr>\n",
       "      <th>3</th>\n",
       "      <td>476263</td>\n",
       "      <td>1</td>\n",
       "    </tr>\n",
       "    <tr>\n",
       "      <th>4</th>\n",
       "      <td>872928</td>\n",
       "      <td>0</td>\n",
       "    </tr>\n",
       "  </tbody>\n",
       "</table>\n",
       "</div>"
      ],
      "text/plain": [
       "   tweetid  sentiment\n",
       "0   169760          1\n",
       "1    35326          1\n",
       "2   224985          1\n",
       "3   476263          1\n",
       "4   872928          0"
      ]
     },
     "execution_count": 93,
     "metadata": {},
     "output_type": "execute_result"
    }
   ],
   "source": [
    "# include tweetids\n",
    "ids_submit = test[['tweetid']]\n",
    "\n",
    "# create dataframe and name columns as needed\n",
    "submit_all = pd.concat([ids_submit.reset_index(drop=True), predictions], axis=1).rename(columns = {0:'sentiment'})\n",
    "submit_all.head()"
   ]
  },
  {
   "cell_type": "code",
   "execution_count": 94,
   "metadata": {},
   "outputs": [],
   "source": [
    "#write submissions to CSV\n",
    "submit_all.to_csv(r'prediction_submission12.csv', index = False)"
   ]
  },
  {
   "cell_type": "markdown",
   "metadata": {},
   "source": [
    "## Suggestions on how to improve the model - Extras \n",
    "\n",
    "Here are some ideas on how you can improve your model. Try some of them out once you have submitted your base model to Kaggle. Only use the methods you find improve your model performance.\n",
    "\n",
    " - Additional preprocessing \n",
    "     - Use some of the methods in the notebooks to balance the data\n",
    "     - Replace links with the text `Link` to show the machine that there is a link present without the extraneous detail of the link text\n",
    "     - Remove punctuation\n",
    "     - Correct spelling\n",
    "     - Bag of words vs. N-grams - which is better?\n",
    "     - Try `TweetTokenizer()` - how does this differ from the tokenisers you are familiar with?\n",
    " - Consider which other models could do a better job (refer to course resources)\n",
    " - Consider some further feature engineering:\n",
    "     - What other attributes of the tweets may be useful?\n",
    "     - Should we perform feature selection given their size and sparseness of the vectorised tweets?\n",
    " - If you've mastered the above, try implementing hyperparameter tuning methods.\n",
    " - Compare all the models you try and remember to submit **the best one** based on test performance (f1-score using macro averaging). \n",
    " \n",
    "You may use the space below to try out these \"Extras\"."
   ]
  },
  {
   "cell_type": "code",
   "execution_count": null,
   "metadata": {},
   "outputs": [],
   "source": [
    "# Extras\n",
    "# YOUR CODE HERE \n",
    "\n",
    "\n"
   ]
  },
  {
   "cell_type": "markdown",
   "metadata": {},
   "source": [
    "## How/why is the model bad?\n",
    "\n",
    "Do you have any hypotheses as to how you can improve the model further? Use this space to investigate with mindful EDA if necessary."
   ]
  },
  {
   "cell_type": "code",
   "execution_count": null,
   "metadata": {},
   "outputs": [],
   "source": [
    "# EDA\n",
    "# YOUR CODE HERE \n",
    "\n",
    "\n",
    "\n"
   ]
  },
  {
   "cell_type": "markdown",
   "metadata": {},
   "source": [
    "Be sure to check whether each additional technique you apply actually improves your model performance."
   ]
  },
  {
   "cell_type": "markdown",
   "metadata": {},
   "source": [
    "## Submit your best model predictions \n",
    "\n",
    "Don't forget to submit your the predictions on the best model to Kaggle."
   ]
  },
  {
   "cell_type": "code",
   "execution_count": null,
   "metadata": {},
   "outputs": [],
   "source": [
    "# write csv for best predictions\n",
    "\n",
    "\n"
   ]
  }
 ],
 "metadata": {
  "hide_input": false,
  "kernelspec": {
   "display_name": "Python 3 (ipykernel)",
   "language": "python",
   "name": "python3"
  },
  "language_info": {
   "codemirror_mode": {
    "name": "ipython",
    "version": 3
   },
   "file_extension": ".py",
   "mimetype": "text/x-python",
   "name": "python",
   "nbconvert_exporter": "python",
   "pygments_lexer": "ipython3",
   "version": "3.8.8"
  }
 },
 "nbformat": 4,
 "nbformat_minor": 4
}
